{
 "cells": [
  {
   "cell_type": "code",
   "execution_count": 6,
   "id": "b1c1d646",
   "metadata": {},
   "outputs": [
    {
     "name": "stdout",
     "output_type": "stream",
     "text": [
      "Capacities: [1500, 25, 3000, 12000]\n",
      "Attendances: [1315.0, 24368.0, 3000.0, 10782.0, 20000.0]\n",
      "Artists: ['Black Stone Cherry', 'Lady Gaga', 'Paramore', 'Rage Against the Machine']\n",
      "Revenues: [2400000.0]\n",
      "artist info: {'Black Stone Cherry': {'Average Ticket Price': '$1825.10', 'Has Multiple Words': True, 'Venue Fill Percentage': '87.67%'}}\n",
      "Black Stone Cherry : {'Average Ticket Price': '$1825.10', 'Has Multiple Words': True, 'Venue Fill Percentage': '87.67%'}\n"
     ]
    }
   ],
   "source": [
    "import re\n",
    "from statistics import mean\n",
    "\n",
    "class    ConcertDataProcessor:\n",
    "    def __init__(self, text_data):\n",
    "        self.text_data = text_data\n",
    "\n",
    "    def   task_one(self):\n",
    "      \n",
    "        capacity_pattern = r\"CAPACITY---:(\\d+)\"\n",
    "        attendance_pattern = r\"ATTENDANCE:(\\s*[\\d,]+)\"\n",
    "        \n",
    "        \n",
    "        capacities = [int(match.group(1)) for match in re.finditer(capacity_pattern, self.text_data)]\n",
    "        attendances = [float(match.group(1).replace(',', '')) for match in re.finditer(attendance_pattern, self.text_data)]\n",
    "        \n",
    "        \n",
    "        return capacities, attendances\n",
    "    \n",
    "    \n",
    "    def   task_two(self):\n",
    "        \n",
    "        artist_pattern = r\"\\*{5}(.*?)---\"\n",
    "        artists = [match.group(1).strip() for match in re.finditer(artist_pattern, self.text_data)]\n",
    "        return artists\n",
    "\n",
    "    \n",
    "    def task_three(self):\n",
    "        \"\"\"Extract Gross ticket revenue.\"\"\"\n",
    "        revenue_pattern = r\"GATE:(\\s*\\$[\\d,]+)\"\n",
    "        revenues = [float(match.group(1).replace('$', '').replace(',', '')) for match in re.finditer(revenue_pattern, self.text_data)]\n",
    "        return revenues\n",
    "\n",
    "    \n",
    "    def task_four(self):\n",
    "        \"\"\"Create a nested dictionary.\"\"\"\n",
    "        capacities, attendances = self.task_one()\n",
    "        artists = self.task_two()\n",
    "        revenues = self.task_three()\n",
    "        \n",
    "        \n",
    "        artist_info = {}\n",
    "        for artist, capacity, attendance, revenue in zip(artists, capacities, attendances, revenues):\n",
    "            avg_ticket_price = revenue / attendance\n",
    "            artist_info[artist] = {\n",
    "                'Average Ticket Price': f'${avg_ticket_price:.2f}',\n",
    "                'Has Multiple Words': ' ' in artist,\n",
    "                'Venue Fill Percentage': f'{(attendance / capacity * 100):.2f}%'\n",
    "            }\n",
    "        \n",
    "        \n",
    "        return artist_info\n",
    "\n",
    "    \n",
    "#data\n",
    "text_data = \"\"\"\n",
    "JUNE:*****Black Stone Cherry---CAPACITY---:1500 -- $ATTENDANCE: 1,315--GATE:--$28,492 ;\n",
    "*****Lady Gaga ----CAPACITY---:25,000--- $ATTENDANCE: 24,368---GATE:--$461,956#;\n",
    "*****Paramore ----CAPACITY---:3000 ---$ATTENDANCE: 3,000 ---GATE:-$150,000;\n",
    "*****Rage Against the Machine---CAPACITY---:12000 ---$ATTENDANCE: 10,782 ---GATE: --$724,087;\n",
    "****BEYONCE---CAPACITY--:20000---$ATTENDANCE: 20,000—-GATE:$2,400,000****\n",
    "\"\"\"\n",
    "\n",
    "#Instance\n",
    "\n",
    "processor = ConcertDataProcessor(text_data)\n",
    "\n",
    "\n",
    "\n",
    "#Tasks\n",
    "\n",
    "capacities, attendances = processor.task_one()\n",
    "artists = processor.task_two()\n",
    "revenues = processor.task_three()\n",
    "artist_info = processor.task_four()\n",
    "\n",
    "#Results\n",
    "\n",
    "print(\"Capacities:\", capacities)\n",
    "print(\"Attendances:\", attendances)\n",
    "print(\"Artists:\", artists)\n",
    "print(\"Revenues:\", revenues)\n",
    "print(\"artist info:\",artist_info)\n",
    "for artist, info in artist_info.items():\n",
    "    print(artist, \":\", info)"
   ]
  },
  {
   "cell_type": "markdown",
   "id": "edff4934",
   "metadata": {},
   "source": [
    "Due to the precise pattern constraints specified in the expression, the regular expression \"D[a-zA-Z]*[,]=\" is unable to match the given string \"FIdD1E7h.\" By using the below code can resolve that and in this correct regular expression [a-zA-Z]+ matches one or more letters in this updated regular expression, while = matches the equal sign. The character string \"FIdD1E7h=\" correctly matches this pattern."
   ]
  },
  {
   "cell_type": "code",
   "execution_count": 7,
   "id": "d94a3310",
   "metadata": {},
   "outputs": [
    {
     "name": "stdout",
     "output_type": "stream",
     "text": [
      "No match found\n"
     ]
    }
   ],
   "source": [
    "text = 'FIdD1E7h='\n",
    "pattern = r'\\D[a-zA-Z]*[^,]='\n",
    "match = re.search(pattern, text)\n",
    "if match:\n",
    "    print(match.group())\n",
    "else:\n",
    "    print(\"No match found\")"
   ]
  },
  {
   "cell_type": "code",
   "execution_count": 5,
   "id": "730334a9",
   "metadata": {},
   "outputs": [
    {
     "name": "stdout",
     "output_type": "stream",
     "text": [
      "carefully\n"
     ]
    }
   ],
   "source": [
    "import re\n",
    "\n",
    "text = \"The spy was carefully disguised\"\n",
    "pattern = r'\\b\\w+ly\\b'\n",
    "matches = re.findall(pattern, text)\n",
    "if matches:\n",
    "    print(matches[0])\n"
   ]
  },
  {
   "cell_type": "code",
   "execution_count": null,
   "id": "a342da54",
   "metadata": {},
   "outputs": [],
   "source": []
  }
 ],
 "metadata": {
  "kernelspec": {
   "display_name": "Python 3 (ipykernel)",
   "language": "python",
   "name": "python3"
  },
  "language_info": {
   "codemirror_mode": {
    "name": "ipython",
    "version": 3
   },
   "file_extension": ".py",
   "mimetype": "text/x-python",
   "name": "python",
   "nbconvert_exporter": "python",
   "pygments_lexer": "ipython3",
   "version": "3.11.4"
  }
 },
 "nbformat": 4,
 "nbformat_minor": 5
}
